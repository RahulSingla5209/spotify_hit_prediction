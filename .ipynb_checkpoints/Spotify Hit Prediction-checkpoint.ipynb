{
 "cells": [
  {
   "cell_type": "markdown",
   "id": "ed87e008",
   "metadata": {},
   "source": [
    "# Is making song an art or science?"
   ]
  },
  {
   "cell_type": "code",
   "execution_count": 47,
   "id": "8bbd986d",
   "metadata": {},
   "outputs": [
    {
     "name": "stdout",
     "output_type": "stream",
     "text": [
      "Populating the interactive namespace from numpy and matplotlib\n"
     ]
    }
   ],
   "source": [
    "import pandas as pd\n",
    "import seaborn as sns\n",
    "import numpy as np\n",
    "import math\n",
    "from sklearn.model_selection import train_test_split\n",
    "from sklearn.preprocessing import StandardScaler\n",
    "from sklearn.impute import SimpleImputer\n",
    "from pandas_profiling import ProfileReport\n",
    "import matplotlib.pyplot as plt\n",
    "\n",
    "from sklearn.linear_model import LogisticRegression\n",
    "from sklearn.ensemble import RandomForestClassifier\n",
    "from xgboost import XGBClassifier\n",
    "\n",
    "%pylab inline"
   ]
  },
  {
   "cell_type": "code",
   "execution_count": 2,
   "id": "aabdab5f",
   "metadata": {},
   "outputs": [],
   "source": [
    "pd.set_option(\"display.max_rows\", 500)\n",
    "pd.set_option(\"display.max_columns\", 500)"
   ]
  },
  {
   "cell_type": "code",
   "execution_count": 3,
   "id": "af23f944",
   "metadata": {},
   "outputs": [],
   "source": [
    "df = pd.read_csv('dataset-of-00s.csv')"
   ]
  },
  {
   "cell_type": "code",
   "execution_count": 4,
   "id": "0c8ea5bf",
   "metadata": {
    "scrolled": true
   },
   "outputs": [
    {
     "data": {
      "text/html": [
       "<div>\n",
       "<style scoped>\n",
       "    .dataframe tbody tr th:only-of-type {\n",
       "        vertical-align: middle;\n",
       "    }\n",
       "\n",
       "    .dataframe tbody tr th {\n",
       "        vertical-align: top;\n",
       "    }\n",
       "\n",
       "    .dataframe thead th {\n",
       "        text-align: right;\n",
       "    }\n",
       "</style>\n",
       "<table border=\"1\" class=\"dataframe\">\n",
       "  <thead>\n",
       "    <tr style=\"text-align: right;\">\n",
       "      <th></th>\n",
       "      <th>track</th>\n",
       "      <th>artist</th>\n",
       "      <th>uri</th>\n",
       "      <th>danceability</th>\n",
       "      <th>energy</th>\n",
       "      <th>key</th>\n",
       "      <th>loudness</th>\n",
       "      <th>mode</th>\n",
       "      <th>speechiness</th>\n",
       "      <th>acousticness</th>\n",
       "      <th>instrumentalness</th>\n",
       "      <th>liveness</th>\n",
       "      <th>valence</th>\n",
       "      <th>tempo</th>\n",
       "      <th>duration_ms</th>\n",
       "      <th>time_signature</th>\n",
       "      <th>chorus_hit</th>\n",
       "      <th>sections</th>\n",
       "      <th>target</th>\n",
       "    </tr>\n",
       "  </thead>\n",
       "  <tbody>\n",
       "    <tr>\n",
       "      <th>0</th>\n",
       "      <td>Lucky Man</td>\n",
       "      <td>Montgomery Gentry</td>\n",
       "      <td>spotify:track:4GiXBCUF7H6YfNQsnBRIzl</td>\n",
       "      <td>0.578</td>\n",
       "      <td>0.471</td>\n",
       "      <td>4</td>\n",
       "      <td>-7.270</td>\n",
       "      <td>1</td>\n",
       "      <td>0.0289</td>\n",
       "      <td>0.368000</td>\n",
       "      <td>0.00000</td>\n",
       "      <td>0.159</td>\n",
       "      <td>0.532</td>\n",
       "      <td>133.061</td>\n",
       "      <td>196707</td>\n",
       "      <td>4</td>\n",
       "      <td>30.88059</td>\n",
       "      <td>13</td>\n",
       "      <td>1</td>\n",
       "    </tr>\n",
       "    <tr>\n",
       "      <th>1</th>\n",
       "      <td>On The Hotline</td>\n",
       "      <td>Pretty Ricky</td>\n",
       "      <td>spotify:track:1zyqZONW985Cs4osz9wlsu</td>\n",
       "      <td>0.704</td>\n",
       "      <td>0.854</td>\n",
       "      <td>10</td>\n",
       "      <td>-5.477</td>\n",
       "      <td>0</td>\n",
       "      <td>0.1830</td>\n",
       "      <td>0.018500</td>\n",
       "      <td>0.00000</td>\n",
       "      <td>0.148</td>\n",
       "      <td>0.688</td>\n",
       "      <td>92.988</td>\n",
       "      <td>242587</td>\n",
       "      <td>4</td>\n",
       "      <td>41.51106</td>\n",
       "      <td>10</td>\n",
       "      <td>1</td>\n",
       "    </tr>\n",
       "    <tr>\n",
       "      <th>2</th>\n",
       "      <td>Clouds Of Dementia</td>\n",
       "      <td>Candlemass</td>\n",
       "      <td>spotify:track:6cHZf7RbxXCKwEkgAZT4mY</td>\n",
       "      <td>0.162</td>\n",
       "      <td>0.836</td>\n",
       "      <td>9</td>\n",
       "      <td>-3.009</td>\n",
       "      <td>1</td>\n",
       "      <td>0.0473</td>\n",
       "      <td>0.000111</td>\n",
       "      <td>0.00457</td>\n",
       "      <td>0.174</td>\n",
       "      <td>0.300</td>\n",
       "      <td>86.964</td>\n",
       "      <td>338893</td>\n",
       "      <td>4</td>\n",
       "      <td>65.32887</td>\n",
       "      <td>13</td>\n",
       "      <td>0</td>\n",
       "    </tr>\n",
       "    <tr>\n",
       "      <th>3</th>\n",
       "      <td>Heavy Metal, Raise Hell!</td>\n",
       "      <td>Zwartketterij</td>\n",
       "      <td>spotify:track:2IjBPp2vMeX7LggzRN3iSX</td>\n",
       "      <td>0.188</td>\n",
       "      <td>0.994</td>\n",
       "      <td>4</td>\n",
       "      <td>-3.745</td>\n",
       "      <td>1</td>\n",
       "      <td>0.1660</td>\n",
       "      <td>0.000007</td>\n",
       "      <td>0.07840</td>\n",
       "      <td>0.192</td>\n",
       "      <td>0.333</td>\n",
       "      <td>148.440</td>\n",
       "      <td>255667</td>\n",
       "      <td>4</td>\n",
       "      <td>58.59528</td>\n",
       "      <td>9</td>\n",
       "      <td>0</td>\n",
       "    </tr>\n",
       "    <tr>\n",
       "      <th>4</th>\n",
       "      <td>I Got A Feelin'</td>\n",
       "      <td>Billy Currington</td>\n",
       "      <td>spotify:track:1tF370eYXUcWwkIvaq3IGz</td>\n",
       "      <td>0.630</td>\n",
       "      <td>0.764</td>\n",
       "      <td>2</td>\n",
       "      <td>-4.353</td>\n",
       "      <td>1</td>\n",
       "      <td>0.0275</td>\n",
       "      <td>0.363000</td>\n",
       "      <td>0.00000</td>\n",
       "      <td>0.125</td>\n",
       "      <td>0.631</td>\n",
       "      <td>112.098</td>\n",
       "      <td>193760</td>\n",
       "      <td>4</td>\n",
       "      <td>22.62384</td>\n",
       "      <td>10</td>\n",
       "      <td>1</td>\n",
       "    </tr>\n",
       "  </tbody>\n",
       "</table>\n",
       "</div>"
      ],
      "text/plain": [
       "                      track             artist  \\\n",
       "0                 Lucky Man  Montgomery Gentry   \n",
       "1            On The Hotline       Pretty Ricky   \n",
       "2        Clouds Of Dementia         Candlemass   \n",
       "3  Heavy Metal, Raise Hell!      Zwartketterij   \n",
       "4           I Got A Feelin'   Billy Currington   \n",
       "\n",
       "                                    uri  danceability  energy  key  loudness  \\\n",
       "0  spotify:track:4GiXBCUF7H6YfNQsnBRIzl         0.578   0.471    4    -7.270   \n",
       "1  spotify:track:1zyqZONW985Cs4osz9wlsu         0.704   0.854   10    -5.477   \n",
       "2  spotify:track:6cHZf7RbxXCKwEkgAZT4mY         0.162   0.836    9    -3.009   \n",
       "3  spotify:track:2IjBPp2vMeX7LggzRN3iSX         0.188   0.994    4    -3.745   \n",
       "4  spotify:track:1tF370eYXUcWwkIvaq3IGz         0.630   0.764    2    -4.353   \n",
       "\n",
       "   mode  speechiness  acousticness  instrumentalness  liveness  valence  \\\n",
       "0     1       0.0289      0.368000           0.00000     0.159    0.532   \n",
       "1     0       0.1830      0.018500           0.00000     0.148    0.688   \n",
       "2     1       0.0473      0.000111           0.00457     0.174    0.300   \n",
       "3     1       0.1660      0.000007           0.07840     0.192    0.333   \n",
       "4     1       0.0275      0.363000           0.00000     0.125    0.631   \n",
       "\n",
       "     tempo  duration_ms  time_signature  chorus_hit  sections  target  \n",
       "0  133.061       196707               4    30.88059        13       1  \n",
       "1   92.988       242587               4    41.51106        10       1  \n",
       "2   86.964       338893               4    65.32887        13       0  \n",
       "3  148.440       255667               4    58.59528         9       0  \n",
       "4  112.098       193760               4    22.62384        10       1  "
      ]
     },
     "execution_count": 4,
     "metadata": {},
     "output_type": "execute_result"
    }
   ],
   "source": [
    "df.head()"
   ]
  },
  {
   "cell_type": "markdown",
   "id": "b9987266",
   "metadata": {},
   "source": [
    "Number of Rows"
   ]
  },
  {
   "cell_type": "code",
   "execution_count": 5,
   "id": "ab15696b",
   "metadata": {},
   "outputs": [
    {
     "data": {
      "text/plain": [
       "5872"
      ]
     },
     "execution_count": 5,
     "metadata": {},
     "output_type": "execute_result"
    }
   ],
   "source": [
    "len(df)"
   ]
  },
  {
   "cell_type": "markdown",
   "id": "1ece22a2",
   "metadata": {},
   "source": [
    "Base Rate"
   ]
  },
  {
   "cell_type": "code",
   "execution_count": 6,
   "id": "5f55d2fa",
   "metadata": {},
   "outputs": [
    {
     "data": {
      "text/plain": [
       "0.5"
      ]
     },
     "execution_count": 6,
     "metadata": {},
     "output_type": "execute_result"
    }
   ],
   "source": [
    "df['target'].mean()"
   ]
  },
  {
   "cell_type": "code",
   "execution_count": 7,
   "id": "38f6d782",
   "metadata": {},
   "outputs": [],
   "source": [
    "#drop useless column\n",
    "df = df.drop('uri', axis=1)"
   ]
  },
  {
   "cell_type": "code",
   "execution_count": 8,
   "id": "d1c26316",
   "metadata": {},
   "outputs": [],
   "source": [
    "X = df.iloc[:,:-1]\n",
    "y = df.iloc[:, -1]"
   ]
  },
  {
   "cell_type": "markdown",
   "id": "8e52df6f",
   "metadata": {},
   "source": [
    "## EDA"
   ]
  },
  {
   "cell_type": "markdown",
   "id": "4bec757e",
   "metadata": {},
   "source": [
    "### Is there relation between the notes you use the most in your song and probability of song's success?"
   ]
  },
  {
   "cell_type": "code",
   "execution_count": 9,
   "id": "efc755c1",
   "metadata": {},
   "outputs": [
    {
     "data": {
      "text/plain": [
       "<AxesSubplot:xlabel='key', ylabel='count'>"
      ]
     },
     "execution_count": 9,
     "metadata": {},
     "output_type": "execute_result"
    },
    {
     "data": {
      "image/png": "[encoded data removed]",
      "text/plain": [
       "<Figure size 432x288 with 1 Axes>"
      ]
     },
     "metadata": {
      "needs_background": "light"
     },
     "output_type": "display_data"
    }
   ],
   "source": [
    "sns.countplot(data = df, x = \"key\", hue = \"target\")"
   ]
  },
  {
   "cell_type": "markdown",
   "id": "ddb6fec3",
   "metadata": {},
   "source": [
    "No"
   ]
  },
  {
   "cell_type": "markdown",
   "id": "2d1de857",
   "metadata": {},
   "source": [
    "### Is there a \"holy grail\" song duration that increases chances of success?"
   ]
  },
  {
   "cell_type": "code",
   "execution_count": 10,
   "id": "d754dd05",
   "metadata": {},
   "outputs": [
    {
     "data": {
      "text/plain": [
       "(0.0, 14.0)"
      ]
     },
     "execution_count": 10,
     "metadata": {},
     "output_type": "execute_result"
    },
    {
     "data": {
      "image/png": "[encoded data removed]",
      "text/plain": [
       "<Figure size 432x288 with 1 Axes>"
      ]
     },
     "metadata": {
      "needs_background": "light"
     },
     "output_type": "display_data"
    }
   ],
   "source": [
    "df['duration_s'] = df['duration_ms']/60000\n",
    "sns.kdeplot(data = df, x = \"duration_s\", hue = \"target\")\n",
    "plt.xlim(0,14)"
   ]
  },
  {
   "cell_type": "markdown",
   "id": "5f3a3df2",
   "metadata": {},
   "source": [
    "Yes.\n",
    "Anything out of the range of (2, 6) min has a low chance of success"
   ]
  },
  {
   "cell_type": "markdown",
   "id": "290814a4",
   "metadata": {},
   "source": [
    "### Do dance numbers have higher chances of being hit?"
   ]
  },
  {
   "cell_type": "code",
   "execution_count": 11,
   "id": "da98c278",
   "metadata": {},
   "outputs": [
    {
     "data": {
      "text/plain": [
       "<AxesSubplot:xlabel='target', ylabel='danceability'>"
      ]
     },
     "execution_count": 11,
     "metadata": {},
     "output_type": "execute_result"
    },
    {
     "data": {
      "image/png": "[encoded data removed]",
      "text/plain": [
       "<Figure size 432x288 with 1 Axes>"
      ]
     },
     "metadata": {
      "needs_background": "light"
     },
     "output_type": "display_data"
    }
   ],
   "source": [
    "sns.boxplot(data = df, y = \"danceability\", x = \"target\")"
   ]
  },
  {
   "cell_type": "code",
   "execution_count": 12,
   "id": "a5283d97",
   "metadata": {},
   "outputs": [
    {
     "data": {
      "text/plain": [
       "<AxesSubplot:xlabel='danceability', ylabel='Density'>"
      ]
     },
     "execution_count": 12,
     "metadata": {},
     "output_type": "execute_result"
    },
    {
     "data": {
      "image/png": "[encoded data removed]",
      "text/plain": [
       "<Figure size 432x288 with 1 Axes>"
      ]
     },
     "metadata": {
      "needs_background": "light"
     },
     "output_type": "display_data"
    }
   ],
   "source": [
    "sns.kdeplot(data = df, x = \"danceability\", hue = \"target\")"
   ]
  },
  {
   "cell_type": "markdown",
   "id": "b96ce78f",
   "metadata": {},
   "source": [
    "Definitely, there some relation between dancability and song's chances of being a hit"
   ]
  },
  {
   "cell_type": "markdown",
   "id": "c7311ecb",
   "metadata": {},
   "source": [
    "### Do loud and high energy songs have a higher chance of being a hit?"
   ]
  },
  {
   "cell_type": "code",
   "execution_count": 13,
   "id": "8c6f3c70",
   "metadata": {},
   "outputs": [
    {
     "data": {
      "text/plain": [
       "<seaborn.axisgrid.JointGrid at 0x10dcec4bf40>"
      ]
     },
     "execution_count": 13,
     "metadata": {},
     "output_type": "execute_result"
    },
    {
     "data": {
      "image/png": "[encoded data removed]",
      "text/plain": [
       "<Figure size 432x432 with 3 Axes>"
      ]
     },
     "metadata": {
      "needs_background": "light"
     },
     "output_type": "display_data"
    }
   ],
   "source": [
    "sns.jointplot(data = df, x = 'loudness', y = 'energy', hue='target', alpha= 0.2)"
   ]
  },
  {
   "cell_type": "markdown",
   "id": "a3e7cc59",
   "metadata": {},
   "source": [
    "Some combinations definitely have higher chances of being a hit than others"
   ]
  },
  {
   "cell_type": "markdown",
   "id": "138c062f",
   "metadata": {},
   "source": [
    "### When should you put in your chorus to garauntee success?"
   ]
  },
  {
   "cell_type": "code",
   "execution_count": 14,
   "id": "2f60b2e6",
   "metadata": {},
   "outputs": [
    {
     "data": {
      "text/plain": [
       "<AxesSubplot:xlabel='chorus_perc', ylabel='Density'>"
      ]
     },
     "execution_count": 14,
     "metadata": {},
     "output_type": "execute_result"
    },
    {
     "data": {
      "image/png": "[encoded data removed]",
      "text/plain": [
       "<Figure size 432x288 with 1 Axes>"
      ]
     },
     "metadata": {
      "needs_background": "light"
     },
     "output_type": "display_data"
    }
   ],
   "source": [
    "df['chorus_perc'] = df['chorus_hit'] / df['duration_ms'] \n",
    "sns.kdeplot(data = df, x = 'chorus_perc', hue = 'target')"
   ]
  },
  {
   "cell_type": "markdown",
   "id": "99b8512d",
   "metadata": {},
   "source": [
    "No clear differentiation. Singer seem to be adding their chorus at the same time"
   ]
  },
  {
   "cell_type": "markdown",
   "id": "e05a58db",
   "metadata": {},
   "source": [
    "### Are hit singers born or made?"
   ]
  },
  {
   "cell_type": "code",
   "execution_count": 15,
   "id": "427eae24",
   "metadata": {
    "scrolled": false
   },
   "outputs": [],
   "source": [
    "artist_hit_stat = df.groupby('artist')['target'].agg(['mean', 'count'])\n",
    "artist_hit_stat = artist_hit_stat[artist_hit_stat['count'] > 2]"
   ]
  },
  {
   "cell_type": "code",
   "execution_count": 16,
   "id": "e089a8b7",
   "metadata": {},
   "outputs": [
    {
     "data": {
      "text/plain": [
       "<AxesSubplot:xlabel='mean', ylabel='Count'>"
      ]
     },
     "execution_count": 16,
     "metadata": {},
     "output_type": "execute_result"
    },
    {
     "data": {
      "image/png": "[encoded data removed]",
      "text/plain": [
       "<Figure size 432x288 with 1 Axes>"
      ]
     },
     "metadata": {
      "needs_background": "light"
     },
     "output_type": "display_data"
    }
   ],
   "source": [
    "sns.histplot(artist_hit_stat, x = 'mean')"
   ]
  },
  {
   "cell_type": "markdown",
   "id": "5d246191",
   "metadata": {},
   "source": [
    "So acc. to this data, if your first song was not a hit then there are zero chances of song being a hit."
   ]
  },
  {
   "cell_type": "markdown",
   "id": "6287769a",
   "metadata": {},
   "source": [
    "## Modelling"
   ]
  },
  {
   "cell_type": "code",
   "execution_count": 30,
   "id": "ce7689bd",
   "metadata": {
    "scrolled": true
   },
   "outputs": [],
   "source": [
    "# startifying based on target so that class represntation is same in train and test \n",
    "train_X, test_X, train_y, test_y = train_test_split(X, y, \n",
    "                                                    train_size=0.9,\n",
    "                                                    stratify = y)"
   ]
  },
  {
   "cell_type": "code",
   "execution_count": 31,
   "id": "733d2c34",
   "metadata": {},
   "outputs": [],
   "source": [
    "# startifying based on target so that class represntation is same in train and test \n",
    "train_X, val_X, train_y, val_y = train_test_split(train_X, train_y, \n",
    "                                                    train_size=0.75,\n",
    "                                                    stratify = train_y)"
   ]
  },
  {
   "cell_type": "code",
   "execution_count": 32,
   "id": "ac048c75",
   "metadata": {},
   "outputs": [],
   "source": [
    "scaler = StandardScaler()\n",
    "\n",
    "train_X = scaler.fit_transform(train_X.iloc[:, 2:])\n",
    "val_X = scaler.fit_transform(val_X.iloc[:, 2:])"
   ]
  },
  {
   "cell_type": "markdown",
   "id": "944cac40",
   "metadata": {},
   "source": [
    "We will skip character columns for first model"
   ]
  },
  {
   "cell_type": "code",
   "execution_count": 33,
   "id": "f1f3ae03",
   "metadata": {},
   "outputs": [],
   "source": [
    "lr = LogisticRegression(C = 0.5)"
   ]
  },
  {
   "cell_type": "code",
   "execution_count": 34,
   "id": "91051080",
   "metadata": {},
   "outputs": [
    {
     "data": {
      "text/plain": [
       "LogisticRegression(C=0.5)"
      ]
     },
     "execution_count": 34,
     "metadata": {},
     "output_type": "execute_result"
    }
   ],
   "source": [
    "lr.fit(train_X, train_y)"
   ]
  },
  {
   "cell_type": "code",
   "execution_count": 35,
   "id": "99df3835",
   "metadata": {},
   "outputs": [
    {
     "data": {
      "text/plain": [
       "<AxesSubplot:>"
      ]
     },
     "execution_count": 35,
     "metadata": {},
     "output_type": "execute_result"
    },
    {
     "data": {
      "image/png": "[encoded data removed]",
      "text/plain": [
       "<Figure size 432x288 with 1 Axes>"
      ]
     },
     "metadata": {
      "needs_background": "light"
     },
     "output_type": "display_data"
    }
   ],
   "source": [
    "pd.Series(index = X.columns.values[2:], \n",
    "          data = lr.coef_.tolist()[0]).\\\n",
    "                    sort_values().\\\n",
    "                    plot(kind = 'bar', cmap = \"coolwarm\")"
   ]
  },
  {
   "cell_type": "code",
   "execution_count": 36,
   "id": "9e9a7aa2",
   "metadata": {},
   "outputs": [
    {
     "data": {
      "text/plain": [
       "0.8155437799646732"
      ]
     },
     "execution_count": 36,
     "metadata": {},
     "output_type": "execute_result"
    }
   ],
   "source": [
    "lr.score(train_X, train_y)"
   ]
  },
  {
   "cell_type": "code",
   "execution_count": 37,
   "id": "b884f4b8",
   "metadata": {},
   "outputs": [
    {
     "data": {
      "text/plain": [
       "0.8493565480696442"
      ]
     },
     "execution_count": 37,
     "metadata": {},
     "output_type": "execute_result"
    }
   ],
   "source": [
    "lr.score(val_X, val_y)"
   ]
  },
  {
   "cell_type": "code",
   "execution_count": 38,
   "id": "3e4655d5",
   "metadata": {},
   "outputs": [],
   "source": [
    "rf = RandomForestClassifier(ccp_alpha = .0001,\n",
    "                           n_estimators = 1000,\n",
    "                           bootstrap = False,\n",
    "                           max_features = 5)"
   ]
  },
  {
   "cell_type": "code",
   "execution_count": 39,
   "id": "d9cddc6f",
   "metadata": {},
   "outputs": [
    {
     "data": {
      "text/plain": [
       "RandomForestClassifier(bootstrap=False, ccp_alpha=0.0001, max_features=5,\n",
       "                       n_estimators=1000)"
      ]
     },
     "execution_count": 39,
     "metadata": {},
     "output_type": "execute_result"
    }
   ],
   "source": [
    "rf.fit(train_X, train_y)"
   ]
  },
  {
   "cell_type": "code",
   "execution_count": 40,
   "id": "f0746c9d",
   "metadata": {},
   "outputs": [
    {
     "data": {
      "text/plain": [
       "array([0.13423444, 0.07238401, 0.02107011, 0.08856113, 0.00759844,\n",
       "       0.05281779, 0.0792334 , 0.25398718, 0.03773342, 0.0528805 ,\n",
       "       0.03996866, 0.10022036, 0.00408766, 0.03339278, 0.02183014])"
      ]
     },
     "execution_count": 40,
     "metadata": {},
     "output_type": "execute_result"
    }
   ],
   "source": [
    "rf.feature_importances_"
   ]
  },
  {
   "cell_type": "code",
   "execution_count": 41,
   "id": "860616c8",
   "metadata": {
    "scrolled": false
   },
   "outputs": [
    {
     "data": {
      "text/plain": [
       "<AxesSubplot:>"
      ]
     },
     "execution_count": 41,
     "metadata": {},
     "output_type": "execute_result"
    },
    {
     "data": {
      "image/png": "[encoded data removed]",
      "text/plain": [
       "<Figure size 432x288 with 1 Axes>"
      ]
     },
     "metadata": {
      "needs_background": "light"
     },
     "output_type": "display_data"
    }
   ],
   "source": [
    "pd.Series(index = X.columns.values[2:], \n",
    "          data = rf.feature_importances_.tolist()).\\\n",
    "                    sort_values().\\\n",
    "                    plot(kind = 'bar')"
   ]
  },
  {
   "cell_type": "code",
   "execution_count": 42,
   "id": "6c6760a6",
   "metadata": {},
   "outputs": [
    {
     "data": {
      "text/plain": [
       "0.998738329548322"
      ]
     },
     "execution_count": 42,
     "metadata": {},
     "output_type": "execute_result"
    }
   ],
   "source": [
    "rf.score(train_X, train_y)"
   ]
  },
  {
   "cell_type": "code",
   "execution_count": 43,
   "id": "65177273",
   "metadata": {},
   "outputs": [
    {
     "data": {
      "text/plain": [
       "0.8697956093868282"
      ]
     },
     "execution_count": 43,
     "metadata": {},
     "output_type": "execute_result"
    }
   ],
   "source": [
    "rf.score(val_X, val_y)"
   ]
  },
  {
   "cell_type": "code",
   "execution_count": 85,
   "id": "99771aca",
   "metadata": {},
   "outputs": [],
   "source": [
    "xgb = XGBClassifier(eta = 0.6, reg_lambda= 1.5, max_depth = 5, verbosity = 0)"
   ]
  },
  {
   "cell_type": "code",
   "execution_count": 86,
   "id": "fa7f72ad",
   "metadata": {},
   "outputs": [
    {
     "name": "stderr",
     "output_type": "stream",
     "text": [
      "C:\\Users\\singl\\Anaconda3\\lib\\site-packages\\xgboost\\sklearn.py:888: UserWarning: The use of label encoder in XGBClassifier is deprecated and will be removed in a future release. To remove this warning, do the following: 1) Pass option use_label_encoder=False when constructing XGBClassifier object; and 2) Encode your labels (y) as integers starting with 0, i.e. 0, 1, 2, ..., [num_class - 1].\n",
      "  warnings.warn(label_encoder_deprecation_msg, UserWarning)\n"
     ]
    },
    {
     "data": {
      "text/plain": [
       "XGBClassifier(base_score=0.5, booster='gbtree', colsample_bylevel=1,\n",
       "              colsample_bynode=1, colsample_bytree=1, eta=0.6, gamma=0,\n",
       "              gpu_id=-1, importance_type='gain', interaction_constraints='',\n",
       "              learning_rate=0.600000024, max_delta_step=0, max_depth=5,\n",
       "              min_child_weight=1, missing=nan, monotone_constraints='()',\n",
       "              n_estimators=100, n_jobs=8, num_parallel_tree=1, random_state=0,\n",
       "              reg_alpha=0, reg_lambda=1.5, scale_pos_weight=1, subsample=1,\n",
       "              tree_method='exact', validate_parameters=1, verbosity=0)"
      ]
     },
     "execution_count": 86,
     "metadata": {},
     "output_type": "execute_result"
    }
   ],
   "source": [
    "xgb.fit(train_X, train_y)"
   ]
  },
  {
   "cell_type": "code",
   "execution_count": 87,
   "id": "fc51d4cc",
   "metadata": {},
   "outputs": [
    {
     "data": {
      "text/plain": [
       "0.998738329548322"
      ]
     },
     "execution_count": 87,
     "metadata": {},
     "output_type": "execute_result"
    }
   ],
   "source": [
    "xgb.score(train_X, train_y)"
   ]
  },
  {
   "cell_type": "code",
   "execution_count": 88,
   "id": "3ac3f2cc",
   "metadata": {},
   "outputs": [
    {
     "data": {
      "text/plain": [
       "0.8531415594246783"
      ]
     },
     "execution_count": 88,
     "metadata": {},
     "output_type": "execute_result"
    }
   ],
   "source": [
    "xgb.score(val_X, val_y)"
   ]
  }
 ],
 "metadata": {
  "kernelspec": {
   "display_name": "Python 3",
   "language": "python",
   "name": "python3"
  },
  "language_info": {
   "codemirror_mode": {
    "name": "ipython",
    "version": 3
   },
   "file_extension": ".py",
   "mimetype": "text/x-python",
   "name": "python",
   "nbconvert_exporter": "python",
   "pygments_lexer": "ipython3",
   "version": "3.8.8"
  },
  "varInspector": {
   "cols": {
    "lenName": 16,
    "lenType": 16,
    "lenVar": 40
   },
   "kernels_config": {
    "python": {
     "delete_cmd_postfix": "",
     "delete_cmd_prefix": "del ",
     "library": "var_list.py",
     "varRefreshCmd": "print(var_dic_list())"
    },
    "r": {
     "delete_cmd_postfix": ") ",
     "delete_cmd_prefix": "rm(",
     "library": "var_list.r",
     "varRefreshCmd": "cat(var_dic_list()) "
    }
   },
   "types_to_exclude": [
    "module",
    "function",
    "builtin_function_or_method",
    "instance",
    "_Feature"
   ],
   "window_display": false
  }
 },
 "nbformat": 4,
 "nbformat_minor": 5
}
